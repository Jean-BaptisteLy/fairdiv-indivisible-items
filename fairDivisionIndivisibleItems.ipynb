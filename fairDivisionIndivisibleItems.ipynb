{
 "cells": [
  {
   "cell_type": "markdown",
   "metadata": {},
   "source": [
    "# Fair Division of Indivisible Goods"
   ]
  },
  {
   "cell_type": "markdown",
   "metadata": {},
   "source": [
    "This is a Jupyter Notebook coming along with the chapter \n",
    "* Chapter 12 (Handbook of Computational Social Choice)\n",
    "\n",
    "This notebook was used as part of the course of :\n",
    "* The COST Summer School Lecture on Fair Division of Indivisible Items (San Sebastian, July 2016)\n",
    "* COCOMA: Master ANDROIDE course at Sorbonne Université, 2016-2022\n",
    "\n",
    "This version: 10-01-2022"
   ]
  },
  {
   "cell_type": "markdown",
   "metadata": {},
   "source": [
    "## 1. Defining MARA problems"
   ]
  },
  {
   "cell_type": "markdown",
   "metadata": {},
   "source": [
    "By importing the module `problem`, we can define fair division problems, by specifying a number of agents, a number of resources, and a type of \"culture\" to draw the preferences from. \n",
    "\n",
    "You can either:\n",
    "* define a **centralized** MARA problem (all the resources are initially held by agent 0, who plays in this case the role of the auctioneer -- and counts as an agent)\n",
    "* define a **decentralized** MARA problem (resources are initially randomly allocated)\n",
    "\n",
    "You can also select the method to generate utilities: \n",
    "* **uniform**: utilities for each resource is drawn uniformly at random from 1 to 100\n",
    "* **normalized**: utilities are normalized in [0,1]\n",
    "* **Borda** utilities (worst resource valued 1, and so on, best one m)\n",
    "* **empty**: leaves utilites undefined. You can later use p.setUtilities() to set utilities as you wish for a problem p. "
   ]
  },
  {
   "cell_type": "code",
   "execution_count": 2,
   "metadata": {},
   "outputs": [],
   "source": [
    "from problem import Problem\n"
   ]
  },
  {
   "cell_type": "code",
   "execution_count": 3,
   "metadata": {},
   "outputs": [
    {
     "name": "stdout",
     "output_type": "stream",
     "text": [
      "agent 1{'r0': 1, 'r1': 3, 'r2': 2, 'r3': 4}\n",
      "agent 2{'r0': 2, 'r1': 1, 'r2': 3, 'r3': 4}\n",
      "\n"
     ]
    }
   ],
   "source": [
    "p1 = Problem(3,4,'borda',centralized=True)\n",
    "print(p1)"
   ]
  },
  {
   "cell_type": "markdown",
   "metadata": {},
   "source": [
    "Printing the allocation allows to see which agent holds which resource, and the current utility of each agent. "
   ]
  },
  {
   "cell_type": "code",
   "execution_count": 4,
   "metadata": {},
   "outputs": [
    {
     "name": "stdout",
     "output_type": "stream",
     "text": [
      "auctioneer            ['r0', 'r1', 'r2', 'r3']\t\n",
      "agent  1                                 []\t 0\n",
      "agent  2                                 []\t 0\n",
      "\n"
     ]
    }
   ],
   "source": [
    "print(p1.printAllocation())\n"
   ]
  },
  {
   "cell_type": "markdown",
   "metadata": {},
   "source": [
    "It is also possible to set the allocation by hand, by using the setAllocation method. The allocation is specified as a boolean array. "
   ]
  },
  {
   "cell_type": "code",
   "execution_count": 5,
   "metadata": {},
   "outputs": [],
   "source": [
    "p1.setAllocation([[0,0,0,0],[1,1,0,0],[0,0,1,1]])"
   ]
  },
  {
   "cell_type": "code",
   "execution_count": 6,
   "metadata": {},
   "outputs": [
    {
     "name": "stdout",
     "output_type": "stream",
     "text": [
      "auctioneer                                  []\t\n",
      "agent  1                       ['r0', 'r1']\t 4\n",
      "agent  2                       ['r2', 'r3']\t 7\n",
      "\n"
     ]
    }
   ],
   "source": [
    "print(p1.printAllocation())"
   ]
  },
  {
   "cell_type": "markdown",
   "metadata": {},
   "source": [
    "A problem also handles an (undirected) **visibility graph** among agents. Note that in the centalized case, agent 0 is isolated from the rest (his utility is irrelevant), while all the other agents are by default connected. "
   ]
  },
  {
   "cell_type": "code",
   "execution_count": 7,
   "metadata": {},
   "outputs": [
    {
     "name": "stdout",
     "output_type": "stream",
     "text": [
      "{0: [], 1: [2], 2: [1]}\n"
     ]
    }
   ],
   "source": [
    "print (p1.visibility_graph)"
   ]
  },
  {
   "cell_type": "code",
   "execution_count": 8,
   "metadata": {},
   "outputs": [],
   "source": [
    "p1.setVisibilityGraph({0:[],1:[],2:[]})"
   ]
  },
  {
   "cell_type": "markdown",
   "metadata": {},
   "source": [
    "No one sees anyone now..."
   ]
  },
  {
   "cell_type": "markdown",
   "metadata": {},
   "source": [
    "### Example of the course"
   ]
  },
  {
   "cell_type": "code",
   "execution_count": 9,
   "metadata": {},
   "outputs": [
    {
     "name": "stdout",
     "output_type": "stream",
     "text": [
      "agent 1{'r0': 1, 'r1': 2, 'r2': 5, 'r3': 3, 'r4': 7, 'r5': 2}\n",
      "agent 2{'r0': 2, 'r1': 6, 'r2': 8, 'r3': 1, 'r4': 1, 'r5': 2}\n",
      "agent 3{'r0': 5, 'r1': 4, 'r2': 4, 'r3': 3, 'r4': 2, 'r5': 2}\n",
      "\n",
      "auctioneer ['r0', 'r1', 'r2', 'r3', 'r4', 'r5']\t\n",
      "agent  1                                 []\t 0\n",
      "agent  2                                 []\t 0\n",
      "agent  3                                 []\t 0\n",
      "\n"
     ]
    }
   ],
   "source": [
    "p3 = Problem(4,6,'empty', centralized=True)\n",
    "p3.setUtilities(\n",
    "[{'r0':0,'r1':0,'r2':0,'r3':0,'r4':0,'r5':0},\\\n",
    "{'r0':1,'r1':2,'r2':5,'r3':3,'r4':7,'r5':2},\\\n",
    "{'r0':2,'r1':6,'r2':8,'r3':1,'r4':1,'r5':2},\\\n",
    "{'r0':5,'r1':4,'r2':4,'r3':3,'r4':2,'r5':2}]\n",
    ")\n",
    "print (p3)\n",
    "print (p3.printAllocation())"
   ]
  },
  {
   "cell_type": "markdown",
   "metadata": {},
   "source": [
    "## 2. Fairness measures"
   ]
  },
  {
   "cell_type": "markdown",
   "metadata": {},
   "source": [
    "The module `fairness_measures` provides a number of fairness measures for a given allocation: \n",
    "* proportionality\n",
    "* egalitarian social welfare\n",
    "* various notions of envy"
   ]
  },
  {
   "cell_type": "code",
   "execution_count": 10,
   "metadata": {},
   "outputs": [],
   "source": [
    "import fairness_measures"
   ]
  },
  {
   "cell_type": "code",
   "execution_count": 11,
   "metadata": {},
   "outputs": [
    {
     "name": "stdout",
     "output_type": "stream",
     "text": [
      "agent 0{'r0': 0.164, 'r1': 0.167, 'r2': 0.259, 'r3': 0.167, 'r4': 0.05, 'r5': 0.193}\n",
      "agent 1{'r0': 0.235, 'r1': 0.191, 'r2': 0.026, 'r3': 0.262, 'r4': 0.103, 'r5': 0.182}\n",
      "agent 2{'r0': 0.022, 'r1': 0.178, 'r2': 0.062, 'r3': 0.231, 'r4': 0.213, 'r5': 0.293}\n",
      "\n"
     ]
    }
   ],
   "source": [
    "p2 = Problem(3,6,'normalized',centralized=False)\n",
    "print(p2)"
   ]
  },
  {
   "cell_type": "code",
   "execution_count": 12,
   "metadata": {},
   "outputs": [
    {
     "name": "stdout",
     "output_type": "stream",
     "text": [
      "=-=-=-=-=-=-=-=-=-=-=-=-=-=-=-=-=-=-=-=-=-=-=-=-=-=\n",
      "agent  0                 ['r2', 'r4', 'r5']\t0.502\n",
      "agent  1                       ['r0', 'r1']\t0.426\n",
      "agent  2                             ['r3']\t0.231\n",
      "\n"
     ]
    }
   ],
   "source": [
    "print(p2.printAllocation())"
   ]
  },
  {
   "cell_type": "markdown",
   "metadata": {},
   "source": [
    "We can check various fairness properties..."
   ]
  },
  {
   "cell_type": "code",
   "execution_count": 13,
   "metadata": {},
   "outputs": [
    {
     "name": "stdout",
     "output_type": "stream",
     "text": [
      "False\n"
     ]
    }
   ],
   "source": [
    "print(fairness_measures.isProportional(p2))"
   ]
  },
  {
   "cell_type": "code",
   "execution_count": 14,
   "metadata": {
    "scrolled": true
   },
   "outputs": [
    {
     "name": "stdout",
     "output_type": "stream",
     "text": [
      "0.231\n"
     ]
    }
   ],
   "source": [
    "print(fairness_measures.egalitarianSW(p2))"
   ]
  },
  {
   "cell_type": "markdown",
   "metadata": {},
   "source": [
    "... and build the envy matrix from which several measures can be obtained. "
   ]
  },
  {
   "cell_type": "code",
   "execution_count": 15,
   "metadata": {},
   "outputs": [
    {
     "name": "stdout",
     "output_type": "stream",
     "text": [
      "[[0.    0.    0.   ]\n",
      " [0.    0.    0.   ]\n",
      " [0.337 0.    0.   ]]\n",
      "There are  1  envious agents\n",
      "The maximum envy among two agents is  0.3370000000000001\n"
     ]
    }
   ],
   "source": [
    "em2 = fairness_measures.envyMatrix(p2)\n",
    "print(em2)\n",
    "print(\"There are \", fairness_measures.nbEnviousAgents(em2), \" envious agents\")\n",
    "print(\"The maximum envy among two agents is \", fairness_measures.maxEnvy(em2))"
   ]
  },
  {
   "cell_type": "code",
   "execution_count": 16,
   "metadata": {},
   "outputs": [
    {
     "name": "stdout",
     "output_type": "stream",
     "text": [
      "False\n"
     ]
    }
   ],
   "source": [
    "print(fairness_measures.isEnvyFree(em2))"
   ]
  },
  {
   "cell_type": "code",
   "execution_count": 17,
   "metadata": {},
   "outputs": [
    {
     "name": "stdout",
     "output_type": "stream",
     "text": [
      "True\n"
     ]
    }
   ],
   "source": [
    "em1 = fairness_measures.envyMatrix(p1)\n",
    "print(fairness_measures.isEnvyFree(em1))"
   ]
  },
  {
   "cell_type": "code",
   "execution_count": 18,
   "metadata": {},
   "outputs": [
    {
     "name": "stdout",
     "output_type": "stream",
     "text": [
      "False\n"
     ]
    }
   ],
   "source": [
    "p1.setVisibilityGraph({0:[],1:[2],2:[1]})\n",
    "em1 = fairness_measures.envyMatrix(p1)\n",
    "print(fairness_measures.isEnvyFree(em1))"
   ]
  },
  {
   "cell_type": "markdown",
   "metadata": {},
   "source": [
    "### Question 1"
   ]
  },
  {
   "cell_type": "markdown",
   "metadata": {},
   "source": [
    "Create an instance involving 3 agents and 4 resources, with the following  utilities for the ressources : \n",
    "* agent 0: 6, 6, 1, 7\n",
    "* agent 1: 1, 3, 9, 7\n",
    "* agent 2: 8, 0, 4, 8\n",
    "\n",
    "Find allocations which satisfies : \n",
    "* proportionality\n",
    "* envy-freeness\n",
    "* maximizes egalitarian social welfare\n",
    "* maximizes utilitarian social welfare\n",
    "* maximizes the Nash product"
   ]
  },
  {
   "cell_type": "code",
   "execution_count": 19,
   "metadata": {},
   "outputs": [
    {
     "name": "stdout",
     "output_type": "stream",
     "text": [
      "agent 1{'r0': 6, 'r1': 6, 'r2': 1, 'r3': 7}\n",
      "agent 2{'r0': 1, 'r1': 3, 'r2': 9, 'r3': 7}\n",
      "agent 3{'r0': 8, 'r1': 0, 'r2': 4, 'r3': 8}\n",
      "\n",
      "auctioneer            ['r0', 'r1', 'r2', 'r3']\t\n",
      "agent  1                                 []\t 0\n",
      "agent  2                                 []\t 0\n",
      "agent  3                                 []\t 0\n",
      "\n"
     ]
    }
   ],
   "source": [
    "# Instance :\n",
    "pQ1 = Problem(4,4,'empty', centralized=True)\n",
    "pQ1.setUtilities(\n",
    "[{'r0':0,'r1':0,'r2':0,'r3':0},\\\n",
    "{'r0':6,'r1':6,'r2':1,'r3':7},\\\n",
    "{'r0':1,'r1':3,'r2':9,'r3':7},\\\n",
    "{'r0':8,'r1':0,'r2':4,'r3':8}]\n",
    ")\n",
    "print(pQ1)\n",
    "print(pQ1.printAllocation())"
   ]
  },
  {
   "cell_type": "code",
   "execution_count": 20,
   "metadata": {},
   "outputs": [
    {
     "name": "stdout",
     "output_type": "stream",
     "text": [
      "proportionality :\n",
      "[0.0, 6.666666666666667, 6.666666666666667, 6.666666666666667]\n",
      "auctioneer                                  []\t\n",
      "agent  1                             ['r3']\t 7\n",
      "agent  2                             ['r2']\t 9\n",
      "agent  3                       ['r0', 'r1']\t 8\n",
      "\n",
      "True\n",
      "\n",
      "envy-freeness :\n",
      "[[0. 0. 0. 0.]\n",
      " [0. 0. 0. 0.]\n",
      " [0. 0. 0. 0.]\n",
      " [0. 0. 0. 0.]]\n",
      "There are  0  envious agents\n",
      "The maximum envy among two agents is  0.0\n",
      "auctioneer                                  []\t\n",
      "agent  1                             ['r3']\t 7\n",
      "agent  2                       ['r1', 'r2']\t12\n",
      "agent  3                             ['r0']\t 8\n",
      "\n",
      "True\n",
      "\n",
      "maximizes egalitarian social welfare :\n",
      "auctioneer                                  []\t\n",
      "agent  1                       ['r1', 'r3']\t13\n",
      "agent  2                             ['r2']\t 9\n",
      "agent  3                             ['r0']\t 8\n",
      "\n",
      "8\n",
      "\n",
      "maximizes utilitarian social welfare :\n",
      "auctioneer                                  []\t\n",
      "agent  1                             ['r1']\t 6\n",
      "agent  2                             ['r2']\t 9\n",
      "agent  3                       ['r0', 'r3']\t16\n",
      "\n",
      "\n",
      "maximizes the Nash product :\n",
      "auctioneer                                  []\t\n",
      "agent  1                             ['r1']\t 6\n",
      "agent  2                             ['r2']\t 9\n",
      "agent  3                       ['r0', 'r3']\t16\n",
      "\n"
     ]
    }
   ],
   "source": [
    "print(\"proportionality :\")\n",
    "print(fairness_measures.proportionality(pQ1))\n",
    "pQ1.setAllocation([[0,0,0,0],[0,0,0,1],[0,0,1,0],[1,1,0,0]])\n",
    "print(pQ1.printAllocation())\n",
    "print(fairness_measures.isProportional(pQ1))\n",
    "\n",
    "print(\"\")\n",
    "print(\"envy-freeness :\")\n",
    "pQ1.setAllocation([[0,0,0,0],[0,0,0,1],[0,1,1,0],[1,0,0,0]])\n",
    "emQ1 = fairness_measures.envyMatrix(pQ1)\n",
    "print(emQ1)\n",
    "print(\"There are \", fairness_measures.nbEnviousAgents(emQ1), \" envious agents\")\n",
    "print(\"The maximum envy among two agents is \", fairness_measures.maxEnvy(emQ1))\n",
    "print(pQ1.printAllocation())\n",
    "print(fairness_measures.isEnvyFree(emQ1))\n",
    "\n",
    "print(\"\")\n",
    "print(\"maximizes egalitarian social welfare :\")\n",
    "# maximizes egalitarian social welfare\n",
    "pQ1.setAllocation([[0,0,0,0],[0,1,0,1],[0,0,1,0],[1,0,0,0]])\n",
    "print(pQ1.printAllocation())\n",
    "print(fairness_measures.egalitarianSW(pQ1))\n",
    "\n",
    "print(\"\")\n",
    "print(\"maximizes utilitarian social welfare :\")\n",
    "# maximizes utilitarian social welfare\n",
    "pQ1.setAllocation([[0,0,0,0],[0,1,0,0],[0,0,1,0],[1,0,0,1]])\n",
    "print(pQ1.printAllocation())\n",
    "\n",
    "print(\"\")\n",
    "print(\"maximizes the Nash product :\")\n",
    "# maximizes the Nash product\n",
    "pQ1.setAllocation([[0,0,0,0],[0,1,0,0],[0,0,1,0],[1,0,0,1]])\n",
    "print(pQ1.printAllocation())"
   ]
  },
  {
   "cell_type": "markdown",
   "metadata": {},
   "source": [
    "### Question 2\n",
    "\n",
    "There are a few missing notions though. Code functions which returns:\n",
    "* whether the allocation is envy-free up to **one** or **any** good\n",
    "* wether the allocation is proportional up to **one** or **any** good\n",
    "Test whether you can find a counter-example to the fact that EFX does not imply PROPX. \n",
    "\n",
    "Another missing notion is Competitive Equilibrium with equal income. Code functions which: \n",
    "* for a problem, given an allocation and a price vector, returns whether this allocation is CEEI\n",
    "* for a problem, given a price vector, checks whether there exists an allocation in CEEI\n",
    "* for a a problem, checks whether there exists a pair of price vector and allocation in CEEI"
   ]
  },
  {
   "cell_type": "code",
   "execution_count": 104,
   "metadata": {},
   "outputs": [
    {
     "name": "stdout",
     "output_type": "stream",
     "text": [
      "agent 1{'r0': 6, 'r1': 6, 'r2': 1, 'r3': 7}\n",
      "agent 2{'r0': 1, 'r1': 3, 'r2': 9, 'r3': 7}\n",
      "agent 3{'r0': 8, 'r1': 0, 'r2': 4, 'r3': 8}\n",
      "\n",
      "auctioneer            ['r0', 'r1', 'r2', 'r3']\t\n",
      "agent  1                                 []\t 0\n",
      "agent  2                                 []\t 0\n",
      "agent  3                                 []\t 0\n",
      "\n",
      "auctioneer                                  []\t\n",
      "agent  1                             ['r3']\t 7\n",
      "agent  2                             ['r2']\t 9\n",
      "agent  3                       ['r0', 'r1']\t 8\n",
      "\n",
      "\n",
      "True\n",
      "Les agents envieux sont : [1]\n",
      "Les agents enviés sont : [3]\n",
      "Les ressources de l'agent envié 3 par l'agent envieux 1 sont : ['r1', 'r0']\n",
      "True\n",
      "[[0, 0, 0, 0], [0, 0, 0, 1], [0, 0, 1, 0], [1, 1, 0, 0]]\n"
     ]
    }
   ],
   "source": [
    "# EF\n",
    "\n",
    "def envious(m,i):\n",
    "    '''\n",
    "    @m: an envy matrix\n",
    "    @i: an agent\n",
    "    returns whether an agent is envious\n",
    "    '''\n",
    "    (n,n) = m.shape\n",
    "    return sum([m[i][j] for j in range(n)])!=0\n",
    "\n",
    "def envious_i_j(m,i,j):\n",
    "    return m[i][j] !=0\n",
    "\n",
    "def envy_free_up_to_one_good(p):\n",
    "    '''\n",
    "    returns whether envy-free up to one or any good\n",
    "    '''\n",
    "    # si envy_free tout court\n",
    "    em = fairness_measures.envyMatrix(p)\n",
    "    #print(em)\n",
    "    if fairness_measures.isEnvyFree(em):\n",
    "        print(\"Déjà envy-free !\")\n",
    "        return True\n",
    "    \n",
    "    # les agents envieux et les agents enviés sont :\n",
    "    envious_agents = []\n",
    "    envied_agents = []\n",
    "    if p.centralized:\n",
    "        deb=1\n",
    "    for i in range(deb,p.n):\n",
    "        if fairness_measures.envied(em,i):\n",
    "            envied_agents.append(i)\n",
    "        if envious(em,i):    \n",
    "            envious_agents.append(i)\n",
    "    '''print(\"Les agents envieux sont :\",envious_agents)\n",
    "    print(\"Les agents enviés sont :\",envied_agents)'''\n",
    "\n",
    "    # on va checker pour chaque agent envieux\n",
    "    for envious_agent in envious_agents:\n",
    "        # les agents enviés\n",
    "        for envied_agent in envied_agents:\n",
    "            if envious_agent != envied_agent:\n",
    "                resources = p.agent[envied_agent].hold.copy()\n",
    "                #print(\"Les ressources de l'agent envié\",envied_agent,\"par l'agent envieux\",envious_agent,\"sont :\",resources)\n",
    "                for r in resources:\n",
    "                    #print(r)\n",
    "                    p.agent[envied_agent].giveItem(r)\n",
    "                    em_env = fairness_measures.envyMatrix(p)\n",
    "                    #print(em_env)\n",
    "                    p.agent[envied_agent].getItem(r)\n",
    "                    # si l'agent est toujours envieux\n",
    "\n",
    "                    if not envious(em_env,envious_agent): # EF1\n",
    "                        break\n",
    "                    else:\n",
    "                        if r == resources[-1]:\n",
    "                            return False\n",
    "                \n",
    "    return True\n",
    "\n",
    "def envy_free_up_to_any_good(p):\n",
    "    '''\n",
    "    returns whether envy-free up to one or any good\n",
    "    '''\n",
    "    # si envy_free tout court\n",
    "    em = fairness_measures.envyMatrix(p)\n",
    "    #print(em)\n",
    "    if fairness_measures.isEnvyFree(em):\n",
    "        print(\"Déjà envy-free !\")\n",
    "        return True\n",
    "    \n",
    "    # les agents envieux et les agents enviés sont :\n",
    "    envious_agents = []\n",
    "    envied_agents = []\n",
    "    if p.centralized:\n",
    "        deb=1\n",
    "    for i in range(deb,p.n):\n",
    "        if fairness_measures.envied(em,i):\n",
    "            envied_agents.append(i)\n",
    "        if envious(em,i):    \n",
    "            envious_agents.append(i)\n",
    "    print(\"Les agents envieux sont :\",envious_agents)\n",
    "    print(\"Les agents enviés sont :\",envied_agents)\n",
    "\n",
    "    # on va checker pour chaque agent envieux\n",
    "    for envious_agent in envious_agents:\n",
    "        # les agents enviés\n",
    "        for envied_agent in envied_agents:\n",
    "            if envious_agent != envied_agent:\n",
    "                resources = p.agent[envied_agent].hold.copy()\n",
    "                print(\"Les ressources de l'agent envié\",envied_agent,\"par l'agent envieux\",envious_agent,\"sont :\",resources)\n",
    "                for r in resources:\n",
    "                    #print(r)\n",
    "                    p.agent[envied_agent].giveItem(r)\n",
    "                    em_env = fairness_measures.envyMatrix(p)\n",
    "                    #print(em_env)\n",
    "                    p.agent[envied_agent].getItem(r)\n",
    "                    # si l'agent est toujours envieux\n",
    "                    #if envious(em_env,envious_agent): # EFX\n",
    "                    if envious_i_j(em_env,envious_agent,envied_agent):\n",
    "                        print(r)\n",
    "                        print(em_env)\n",
    "                        return False\n",
    "                \n",
    "    return True\n",
    "\n",
    "# Instance :\n",
    "pQ1 = Problem(4,4,'empty', centralized=True)\n",
    "pQ1.setUtilities(\n",
    "[{'r0':0,'r1':0,'r2':0,'r3':0},\\\n",
    "{'r0':6,'r1':6,'r2':1,'r3':7},\\\n",
    "{'r0':1,'r1':3,'r2':9,'r3':7},\\\n",
    "{'r0':8,'r1':0,'r2':4,'r3':8}]\n",
    ")\n",
    "print(pQ1)\n",
    "print(pQ1.printAllocation())\n",
    "\n",
    "pQ1.setAllocation([[0,0,0,0],[0,0,0,1],[0,0,1,0],[1,1,0,0]])\n",
    "print(pQ1.printAllocation())\n",
    "print(\"\")\n",
    "print(envy_free_up_to_one_good(pQ1))\n",
    "print(envy_free_up_to_any_good(pQ1))\n",
    "\n",
    "def getAllocation(p):\n",
    "    allocation = []\n",
    "    for i in range(len(p.agent)):\n",
    "        allocation.append([0]*p.m)\n",
    "        for j in range(len(p.agent[i].hold)):\n",
    "            allocation[i][int(p.agent[i].hold[j][-1])] = 1\n",
    "    return allocation\n",
    "\n",
    "print(getAllocation(pQ1))"
   ]
  },
  {
   "cell_type": "code",
   "execution_count": 96,
   "metadata": {},
   "outputs": [
    {
     "name": "stdout",
     "output_type": "stream",
     "text": [
      "agent 1{'r0': 6, 'r1': 6, 'r2': 1, 'r3': 7}\n",
      "agent 2{'r0': 1, 'r1': 3, 'r2': 9, 'r3': 7}\n",
      "agent 3{'r0': 8, 'r1': 0, 'r2': 4, 'r3': 8}\n",
      "\n",
      "auctioneer            ['r0', 'r1', 'r2', 'r3']\t\n",
      "agent  1                                 []\t 0\n",
      "agent  2                                 []\t 0\n",
      "agent  3                                 []\t 0\n",
      "\n",
      "auctioneer                                  []\t\n",
      "agent  1                             ['r2']\t 1\n",
      "agent  2                             ['r3']\t 7\n",
      "agent  3                       ['r0', 'r1']\t 8\n",
      "\n",
      "False\n",
      "\n",
      "pfs : [0.0, 6.666666666666667, 6.666666666666667, 6.666666666666667]\n",
      "True\n",
      "pfs : [0.0, 6.666666666666667, 6.666666666666667, 6.666666666666667]\n",
      "True\n"
     ]
    }
   ],
   "source": [
    "# PROP\n",
    "\n",
    "def proportional_up_to_one(p):\n",
    "    \n",
    "    pfs = fairness_measures.proportionality(p)\n",
    "    print(\"pfs :\",pfs)\n",
    "    \n",
    "    if fairness_measures.isProportional(p):\n",
    "        return True\n",
    "\n",
    "    deb=0\n",
    "    if p.centralized:\n",
    "        deb=1\n",
    "    for i in range(deb,p.n):\n",
    "        if p.agent[i].current_u<pfs[i]:\n",
    "            resources = list(set(p.resources) - set(p.agent[i].hold))\n",
    "            for r in resources:\n",
    "                p.agent[i].getItem(r)\n",
    "                if p.agent[i].current_u>=pfs[i]:\n",
    "                    break\n",
    "                else:\n",
    "                    if r == resources[-1]: # si toujours < pfs et donc non prop\n",
    "                        p.agent[i].giveItem(r)\n",
    "                        return False                    \n",
    "                p.agent[i].giveItem(r)\n",
    "    return True\n",
    "\n",
    "def proportional_up_to_any_good(p): # ok mais on peut améliorer la complexité avec le \"up to the least valued good\"\n",
    "    \n",
    "    pfs = fairness_measures.proportionality(p)\n",
    "    print(\"pfs :\",pfs)\n",
    "    \n",
    "    if fairness_measures.isProportional(p):\n",
    "        return True\n",
    "\n",
    "    deb=0\n",
    "    if p.centralized:\n",
    "        deb=1\n",
    "    for i in range(deb,p.n):\n",
    "        if p.agent[i].current_u<pfs[i]:\n",
    "            resources = list(set(p.resources) - set(p.agent[i].hold))\n",
    "            for r in resources:\n",
    "                p.agent[i].getItem(r)\n",
    "                if p.agent[i].current_u<pfs[i]:\n",
    "                    p.agent[i].giveItem(r)\n",
    "                    return False\n",
    "                p.agent[i].giveItem(r)\n",
    "    return True\n",
    "            \n",
    "# Instance :\n",
    "pQ1 = Problem(4,4,'empty', centralized=True)\n",
    "pQ1.setUtilities(\n",
    "[{'r0':0,'r1':0,'r2':0,'r3':0},\\\n",
    "{'r0':6,'r1':6,'r2':1,'r3':7},\\\n",
    "{'r0':1,'r1':3,'r2':9,'r3':7},\\\n",
    "{'r0':8,'r1':0,'r2':4,'r3':8}]\n",
    ")\n",
    "print(pQ1)\n",
    "print(pQ1.printAllocation())\n",
    "\n",
    "pQ1.setAllocation([[0,0,0,0],[0,0,1,0],[0,0,0,1],[1,1,0,0]])\n",
    "print(pQ1.printAllocation())\n",
    "print(fairness_measures.isProportional(pQ1))\n",
    "print(\"\")\n",
    "print(proportional_up_to_one(pQ1))\n",
    "print(proportional_up_to_any_good(pQ1))"
   ]
  },
  {
   "cell_type": "code",
   "execution_count": 106,
   "metadata": {},
   "outputs": [
    {
     "name": "stdout",
     "output_type": "stream",
     "text": [
      "auctioneer                                  []\t\n",
      "agent  1                             ['r0']\t 1\n",
      "agent  2                             ['r1']\t 1\n",
      "agent  3                             ['r2']\t 1\n",
      "agent  4                             ['r3']\t 1\n",
      "agent  5                             ['r4']\t 2\n",
      "\n",
      "Les agents envieux sont : [5]\n",
      "Les agents enviés sont : [1, 2, 3]\n",
      "Les ressources de l'agent envié 1 par l'agent envieux 5 sont : ['r0']\n",
      "Les ressources de l'agent envié 2 par l'agent envieux 5 sont : ['r1']\n",
      "Les ressources de l'agent envié 3 par l'agent envieux 5 sont : ['r2']\n",
      "True\n",
      "pfs : [0.0, 1.0, 1.0, 1.0, 1.0, 3.2]\n",
      "False\n"
     ]
    }
   ],
   "source": [
    "# Instance EFX but not PROPX :\n",
    "pQ2_EFX_notPROPX = Problem(6,5,'empty', centralized=True)\n",
    "pQ2_EFX_notPROPX.setUtilities(\n",
    "[{'r0':0,'r1':0,'r2':0,'r3':0,'r4':0},\\\n",
    "{'r0':1,'r1':1,'r2':1,'r3':1,'r4':1},\\\n",
    "{'r0':1,'r1':1,'r2':1,'r3':1,'r4':1},\\\n",
    "{'r0':1,'r1':1,'r2':1,'r3':1,'r4':1},\\\n",
    "{'r0':1,'r1':1,'r2':1,'r3':1,'r4':1},\\\n",
    "{'r0':3,'r1':6,'r2':4,'r3':1,'r4':2}]\n",
    ")\n",
    "pQ2_EFX_notPROPX.setAllocation([[0,0,0,0,0],[1,0,0,0,0],[0,1,0,0,0],[0,0,1,0,0],[0,0,0,1,0],[0,0,0,0,1]])\n",
    "print(pQ2_EFX_notPROPX.printAllocation())\n",
    "#print(envy_free_up_to_one_good(pQ2_EFX_notPROPX))\n",
    "print(envy_free_up_to_any_good(pQ2_EFX_notPROPX))\n",
    "#print(proportional_up_to_one(pQ2_EFX_notPROPX))\n",
    "print(proportional_up_to_any_good(pQ2_EFX_notPROPX))"
   ]
  },
  {
   "cell_type": "code",
   "execution_count": 64,
   "metadata": {},
   "outputs": [
    {
     "name": "stdout",
     "output_type": "stream",
     "text": [
      "12\n"
     ]
    }
   ],
   "source": [
    "# A naive recursive implementation of 0-1 Knapsack Problem\n",
    "  \n",
    "# Returns the maximum value that can be put in a knapsack of\n",
    "# capacity W\n",
    "def knapSack(W, wt, val, n):\n",
    "  \n",
    "    # Base Case\n",
    "    if n == 0 or W == 0 :\n",
    "        return 0\n",
    "  \n",
    "    # If weight of the nth item is more than Knapsack of capacity\n",
    "    # W, then this item cannot be included in the optimal solution\n",
    "    if (wt[n-1] > W):\n",
    "        return knapSack(W, wt, val, n-1)\n",
    "  \n",
    "    # return the maximum of two cases:\n",
    "    # (1) nth item included\n",
    "    # (2) not included\n",
    "    else:\n",
    "        return max(val[n-1] + knapSack(W-wt[n-1], wt, val, n-1),\n",
    "                   knapSack(W, wt, val, n-1))\n",
    "    \n",
    "# end of function knapSack\n",
    "  \n",
    "# To test above function\n",
    "val = [6, 6, 6, 0, 0]\n",
    "wt = [0.4, 0.5, 0.5, 0.3, 0.3]\n",
    "W = 1\n",
    "n = len(val)\n",
    "print(knapSack(W, wt, val, n))\n",
    "  \n",
    "# This code is contributed by Nikhil Kumar Singh"
   ]
  },
  {
   "cell_type": "code",
   "execution_count": 77,
   "metadata": {},
   "outputs": [
    {
     "name": "stdout",
     "output_type": "stream",
     "text": [
      "12 [1, 2]\n"
     ]
    }
   ],
   "source": [
    "def knapSack_path(W, wt, val, n):\n",
    " \n",
    "    # Base Case\n",
    "    if n == 0 or W == 0:\n",
    "        return 0, []\n",
    " \n",
    "    # If weight of the nth item is\n",
    "    # more than Knapsack of capacity W,\n",
    "    # then this item cannot be included\n",
    "    # in the optimal solution\n",
    "    if (wt[n-1] > W):\n",
    "        return knapSack_path(W, wt, val, n-1)\n",
    " \n",
    "    # return the maximum of two cases:\n",
    "    # (1) nth item included\n",
    "    v1, p1 = knapSack_path(W-wt[n-1], wt, val, n-1)\n",
    "    v1 += val[n-1]\n",
    "    p1 = p1 + [n-1]\n",
    "    #p1 = p1 + [\"r\"+str(n-1)]\n",
    "    \n",
    "    # (2) not included\n",
    "    v2, p2 = knapSack_path(W, wt, val, n-1)\n",
    "    \n",
    "    return (v1, p1) if v1 >= v2 else (v2, p2)\n",
    "    \n",
    "val = [6, 6, 6, 0, 0]\n",
    "wt = [0.4, 0.5, 0.5, 0.3, 0.3]\n",
    "#val = [6, 6, 0, 0]\n",
    "#wt = [0.4, 0.5, 0.3, 0.3]\n",
    "W = 1\n",
    "n = len(val)\n",
    "val, path = knapSack_path(W, wt, val, n)\n",
    "print(val, path)\n",
    "\n",
    "def all_optimal_solutions_knapsack(W, wt, val, n):\n",
    "    val,path = knapSack_path(W, wt, val, n)\n",
    "    for i in range(len(path)):\n",
    "        path_bis = path.copy()\n",
    "\n",
    "            del a[-1]\n",
    "    pass"
   ]
  },
  {
   "cell_type": "code",
   "execution_count": 74,
   "metadata": {},
   "outputs": [
    {
     "name": "stdout",
     "output_type": "stream",
     "text": [
      "agent 1{'r0': 6, 'r1': 6, 'r2': 1, 'r3': 7}\n",
      "agent 2{'r0': 1, 'r1': 3, 'r2': 9, 'r3': 7}\n",
      "agent 3{'r0': 8, 'r1': 0, 'r2': 4, 'r3': 8}\n",
      "\n",
      "auctioneer            ['r0', 'r1', 'r2', 'r3']\t\n",
      "agent  1                                 []\t 0\n",
      "agent  2                                 []\t 0\n",
      "agent  3                                 []\t 0\n",
      "\n",
      "auctioneer                                  []\t\n",
      "agent  1                             ['r3']\t 7\n",
      "agent  2                             ['r2']\t 9\n",
      "agent  3                       ['r0', 'r1']\t 8\n",
      "\n",
      "Not CEEI because of agent 1\n",
      "False\n",
      "\n",
      "agent 1{'r0': 6, 'r1': 6, 'r2': 6, 'r3': 0, 'r4': 0}\n",
      "agent 2{'r0': 5, 'r1': 5, 'r2': 3, 'r3': 3, 'r4': 2}\n",
      "\n",
      "auctioneer      ['r0', 'r1', 'r2', 'r3', 'r4']\t\n",
      "agent  1                                 []\t 0\n",
      "agent  2                                 []\t 0\n",
      "\n",
      "auctioneer                                  []\t\n",
      "agent  1                       ['r1', 'r2']\t12\n",
      "agent  2                 ['r0', 'r3', 'r4']\t10\n",
      "\n",
      "True\n"
     ]
    }
   ],
   "source": [
    "# CEEI\n",
    "\n",
    "#for a problem, given an allocation and a price vector, returns whether this allocation is CEEI\n",
    "#for a problem, given a price vector, checks whether there exists an allocation in CEEI\n",
    "#for a a problem, checks whether there exists a pair of price vector and allocation in CEEI\n",
    "\n",
    "# problème du sac-à-dos sans le path\n",
    "def isCEEI(p,wallet,allocation,price_vector):\n",
    "    p.setAllocation(allocation)\n",
    "    print(p.printAllocation())\n",
    "    deb=0\n",
    "    if p.centralized:\n",
    "        deb=1\n",
    "    for i in range(deb,p.n):\n",
    "        utilities = list(p.agent[i].u.values())\n",
    "        optimal = knapSack(wallet,price_vector,utilities,len(utilities))\n",
    "        if p.agent[i].current_u!=optimal:\n",
    "            print(\"Not CEEI because of agent\",i)\n",
    "            return False\n",
    "    return True\n",
    "\n",
    "# problème du sac-à-dos avec le path\n",
    "def existsCEEI(p,wallet,price_vector):\n",
    "    # 1) application du problème du sac-à-dos (avec le path) sur un agent\n",
    "    # 2) idem sur les autres agents tout en respectant les objets pris par les agents précédents\n",
    "    # 3) isCEEI\n",
    "    # 4) si False, réapplication du problème du sac-à-dos mais avec un autre path\n",
    "    # 5) boucler.\n",
    "    # ou\n",
    "    # 1) toutes les combinaisons d'allocations possibles (tout en respectant le vecteur prix)\n",
    "    # 2) isCEEI\n",
    "    # ou\n",
    "    # 1) pour chaque agent, j'applique knapsack (avec ou sans le path)\n",
    "    # 2) check si les fusions des solutions du knapsack sont possibles (une ressource ne peut pas être prise par plusieurs agents à la fois)\n",
    "    # la méthode choisie est la\n",
    "    \n",
    "    \n",
    "    pass\n",
    "\n",
    "# Instance :\n",
    "pQ1 = Problem(4,4,'empty', centralized=True)\n",
    "pQ1.setUtilities(\n",
    "[{'r0':0,'r1':0,'r2':0,'r3':0},\\\n",
    "{'r0':6,'r1':6,'r2':1,'r3':7},\\\n",
    "{'r0':1,'r1':3,'r2':9,'r3':7},\\\n",
    "{'r0':8,'r1':0,'r2':4,'r3':8}]\n",
    ")\n",
    "print(pQ1)\n",
    "print(pQ1.printAllocation())\n",
    "\n",
    "p = pQ1\n",
    "allocation = [[0,0,0,0],[0,0,0,1],[0,0,1,0],[1,1,0,0]]\n",
    "wallet = 1\n",
    "price_vector = [0.4, 0.5, 0.5, 0.3, 0.3]\n",
    "\n",
    "print(isCEEI(p,wallet,allocation,price_vector))\n",
    "\n",
    "print(\"\")\n",
    "\n",
    "# Instance :\n",
    "p_cours = Problem(3,5,'empty', centralized=True)\n",
    "p_cours.setUtilities(\n",
    "[{'r0':0,'r1':0,'r2':0,'r3':0,'r4':0},\\\n",
    "{'r0':6,'r1':6,'r2':6,'r3':0,'r4':0},\\\n",
    "{'r0':5,'r1':5,'r2':3,'r3':3,'r4':2}]\n",
    ")\n",
    "print(p_cours)\n",
    "print(p_cours.printAllocation())\n",
    "\n",
    "p = p_cours\n",
    "allocation = [[0,0,0,0,0],[0,1,1,0,0],[1,0,0,1,1]]\n",
    "wallet = 1\n",
    "price_vector = [0.4, 0.5, 0.5, 0.3, 0.3]\n",
    "\n",
    "print(isCEEI(p,wallet,allocation,price_vector))"
   ]
  },
  {
   "cell_type": "markdown",
   "metadata": {},
   "source": [
    "## 3. Solving via MIP"
   ]
  },
  {
   "cell_type": "markdown",
   "metadata": {},
   "source": [
    "By importing `mipsolving` we get access to functions allowing to optimally solve the problems via MIP formulations (see course). \n",
    "The program uses the `Pulp` libray for linear programming. "
   ]
  },
  {
   "cell_type": "code",
   "execution_count": 50,
   "metadata": {},
   "outputs": [],
   "source": [
    "import mipsolving"
   ]
  },
  {
   "cell_type": "code",
   "execution_count": 51,
   "metadata": {},
   "outputs": [
    {
     "name": "stderr",
     "output_type": "stream",
     "text": [
      "C:\\Users\\lyjea\\Anaconda3\\lib\\site-packages\\pulp\\pulp.py:1198: UserWarning: Spaces are not permitted in the name. Converted to '_'\n",
      "  warnings.warn(\"Spaces are not permitted in the name. Converted to '_'\")\n"
     ]
    },
    {
     "name": "stdout",
     "output_type": "stream",
     "text": [
      "Status: Optimal\n",
      "envy_bound\n",
      "0.0\n",
      "agent  1  gets resource r4\n",
      "agent  1  gets resource r5\n",
      "agent  2  gets resource r1\n",
      "agent  2  gets resource r2\n",
      "agent  3  gets resource r0\n",
      "agent  3  gets resource r3\n",
      "the final max envy is  0.0\n"
     ]
    }
   ],
   "source": [
    "e3 = mipsolving.envyminimizingLP(p3,verbose=True)\n",
    "print(\"the final max envy is \",e3)"
   ]
  },
  {
   "cell_type": "markdown",
   "metadata": {},
   "source": [
    "(Note that this has not modified the initial problem)"
   ]
  },
  {
   "cell_type": "code",
   "execution_count": 52,
   "metadata": {},
   "outputs": [
    {
     "name": "stdout",
     "output_type": "stream",
     "text": [
      "agent  1  gets resource r0\n",
      "agent  1  gets resource r2\n",
      "agent  1  gets resource r4\n",
      "agent  2  gets resource r1\n",
      "agent  2  gets resource r3\n",
      "agent  2  gets resource r5\n",
      "0.563\n"
     ]
    }
   ],
   "source": [
    "print(mipsolving.assignmentLP(p2,verbose=True))"
   ]
  },
  {
   "cell_type": "markdown",
   "metadata": {},
   "source": [
    "## 4. How likely is it to get an envy-free allocation? "
   ]
  },
  {
   "cell_type": "markdown",
   "metadata": {},
   "source": [
    "For facilitating the run of several problems with varying or similar parameters, the module simulations provides a few functions. "
   ]
  },
  {
   "cell_type": "code",
   "execution_count": 53,
   "metadata": {},
   "outputs": [],
   "source": [
    "import simulations\n"
   ]
  },
  {
   "cell_type": "markdown",
   "metadata": {},
   "source": [
    "Let us illustrate this on a specific question, adressed by Dickerson et al. in their paper: \n",
    "* The computational Rise and Fall of Fairness, AAAI-2014"
   ]
  },
  {
   "cell_type": "code",
   "execution_count": 54,
   "metadata": {},
   "outputs": [
    {
     "name": "stdout",
     "output_type": "stream",
     "text": [
      "Experiments completed!\n"
     ]
    }
   ],
   "source": [
    "tested_resources = list(range(5,10)) # from 5 to 10 resources\n",
    "tested_agents = [5] # only 5 agents\n",
    "max_envy,ratio_ef = simulations.simulationOpt(50,tested_agents,tested_resources,'normalized')\n",
    "#print (max_envy,ratio_ef)\n",
    "print(\"Experiments completed!\")"
   ]
  },
  {
   "cell_type": "code",
   "execution_count": 55,
   "metadata": {},
   "outputs": [
    {
     "data": {
      "image/png": "[encoded data removed]",
      "text/plain": [
       "<Figure size 900x288 with 1 Axes>"
      ]
     },
     "metadata": {
      "needs_background": "light"
     },
     "output_type": "display_data"
    }
   ],
   "source": [
    "%matplotlib inline\n",
    "import numpy as np\n",
    "from matplotlib import pyplot as plt\n",
    "from IPython.core.pylabtools import figsize\n",
    "import networkx as nx\n",
    "import pylab\n",
    "figsize(12.5, 4)\n",
    "p = np.linspace(tested_resources[0], tested_resources[0]+len(tested_resources)-1,len(tested_resources))\n",
    "#print(p)\n",
    "plt.plot(p, max_envy[0], color='red')\n",
    "plt.plot(p, ratio_ef[0], color = 'blue')\n",
    "legende = \"Average max envy and ratio of envy-free, for increasing number of items\"\n",
    "plt.suptitle(legende, y=1.02, fontsize=15)\n",
    "plt.tight_layout()"
   ]
  },
  {
   "cell_type": "markdown",
   "metadata": {},
   "source": [
    "### Question 3\n",
    "Play a little bit with these simulations and try to determine:\n",
    "* for 2 agents, how the max envy evolves, from which number of items\n",
    "you can be reasonably sure to get an envy-free allocation\n",
    "* same question for 5 agents"
   ]
  },
  {
   "cell_type": "markdown",
   "metadata": {},
   "source": [
    "## 5. Envy-Freeness on Graph"
   ]
  },
  {
   "cell_type": "markdown",
   "metadata": {},
   "source": [
    "Agents can only envy their neighbours in the visibility (Idea: you can't envy someone you don't see). "
   ]
  },
  {
   "cell_type": "markdown",
   "metadata": {},
   "source": [
    "Augment the code of mipsolving so as to account for graph envy-freeness, ie. an envy is only considered among agents which are neighbours in the graph. Then, test how likely it is to get a graph-envy free allocation:\n",
    "* on a line of 10 agents, with Borda utilities,\n",
    "* on a star of 10 agents, with Borda utilities."
   ]
  },
  {
   "cell_type": "code",
   "execution_count": null,
   "metadata": {
    "collapsed": true
   },
   "outputs": [],
   "source": []
  }
 ],
 "metadata": {
  "anaconda-cloud": {},
  "kernelspec": {
   "display_name": "Python 3",
   "language": "python",
   "name": "python3"
  },
  "language_info": {
   "codemirror_mode": {
    "name": "ipython",
    "version": 3
   },
   "file_extension": ".py",
   "mimetype": "text/x-python",
   "name": "python",
   "nbconvert_exporter": "python",
   "pygments_lexer": "ipython3",
   "version": "3.7.9"
  }
 },
 "nbformat": 4,
 "nbformat_minor": 1
}
